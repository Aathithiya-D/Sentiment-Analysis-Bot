{
  "nbformat": 4,
  "nbformat_minor": 0,
  "metadata": {
    "colab": {
      "provenance": [],
      "authorship_tag": "ABX9TyP1+pRTxX32QSbJfgdxHkD7",
      "include_colab_link": true
    },
    "kernelspec": {
      "name": "python3",
      "display_name": "Python 3"
    },
    "language_info": {
      "name": "python"
    }
  },
  "cells": [
    {
      "cell_type": "markdown",
      "metadata": {
        "id": "view-in-github",
        "colab_type": "text"
      },
      "source": [
        "<a href=\"https://colab.research.google.com/github/Aathithiya-D/Sentiment-Analysis-Bot/blob/main/Sentiment_Analysis_Bot.ipynb\" target=\"_parent\"><img src=\"https://colab.research.google.com/assets/colab-badge.svg\" alt=\"Open In Colab\"/></a>"
      ]
    },
    {
      "cell_type": "code",
      "execution_count": null,
      "metadata": {
        "colab": {
          "base_uri": "https://localhost:8080/"
        },
        "id": "5GkAFlVsprwk",
        "outputId": "29d25692-54ca-4282-8940-9f0c84d02783"
      },
      "outputs": [
        {
          "metadata": {
            "tags": null
          },
          "name": "stderr",
          "output_type": "stream",
          "text": [
            "[nltk_data] Downloading package vader_lexicon to /root/nltk_data...\n"
          ]
        },
        {
          "metadata": {
            "tags": null
          },
          "name": "stdout",
          "output_type": "stream",
          "text": [
            "Chatbot: Hello! How can I assist you today?\n",
            "Sentiment (NLP): negative\n",
            "Sentiment (ML): neg\n",
            "Chatbot: I'm sorry to hear that. How can I help you feel better?\n",
            "Sentiment (NLP): positive\n",
            "Sentiment (ML): pos\n",
            "Chatbot: That's great to hear! Is there anything specific you would like to know or talk about?\n",
            "Sentiment (NLP): positive\n",
            "Sentiment (ML): pos\n",
            "Chatbot: That's great to hear! Is there anything specific you would like to know or talk about?\n",
            "Sentiment (NLP): neutral\n",
            "Sentiment (ML): neu\n",
            "Chatbot: I appreciate your input. Is there anything specific you would like to discuss?\n"
          ]
        }
      ],
      "source": [
        "import nltk\n",
        "import random\n",
        "from nltk.sentiment.vader import SentimentIntensityAnalyzer\n",
        "from sklearn.feature_extraction.text import CountVectorizer\n",
        "from sklearn.svm import SVC\n",
        "from sklearn.metrics import accuracy_score\n",
        "\n",
        "nltk.download('vader_lexicon')\n",
        "sid = SentimentIntensityAnalyzer()\n",
        "\n",
        "def analyze_sentiment_nlp(user_input):\n",
        "\n",
        "  sentiment_scores = sid.polarity_scores(user_input)\n",
        "  if sentiment_scores['compound'] >= 0.05:\n",
        "    return 'positive'\n",
        "  elif sentiment_scores['compound'] <= -0.05:\n",
        "    return 'negative'\n",
        "  else:\n",
        "    return 'neutral'\n",
        "\n",
        "def analyze_sentiment_ml(user_input):\n",
        "  user_input_vectorized = vectorizer.transform([user_input])\n",
        "  sentiment = svm_classifier.predict(user_input_vectorized)[0]\n",
        "  return sentiment\n",
        "\n",
        "def main():\n",
        "\n",
        "  print(\"Chatbot: Hello! How can I assist you today?\")\n",
        "\n",
        "  while True:\n",
        "    user_input = input(\"User: \")\n",
        "    if user_input.lower() == 'exit':\n",
        "      print(\"Chatbot: Goodbye! Have a great day!\")\n",
        "      break\n",
        "\n",
        "    nlp_sentiment = analyze_sentiment_nlp(user_input)\n",
        "    print(f\"Sentiment (NLP): {nlp_sentiment}\")\n",
        "\n",
        "    ml_sentiment = analyze_sentiment_ml(user_input)\n",
        "    print(f\"Sentiment (ML): {ml_sentiment}\")\n",
        "\n",
        "    if nlp_sentiment == 'positive' or ml_sentiment == 'pos':\n",
        "      print(\"Chatbot: That's great to hear! Is there anything specific you would like to know or talk about?\")\n",
        "    elif nlp_sentiment == 'negative' or ml_sentiment == 'neg':\n",
        "      print(\"Chatbot: I'm sorry to hear that. How can I help you feel better?\")\n",
        "    else:\n",
        "      print(\"Chatbot: I appreciate your input. Is there anything specific you would like to discuss?\")\n",
        "\n",
        "if __name__ == \"__main__\":\n",
        "\n",
        "  documents = [\"Love\", \"Hate\", \"Joy\", \"Sad\", \"Excitement\", \"Fear\", \"Hope\",\n",
        "               \"Anger\", \"Peace\", \"Grief\", \"Smile\", \"Tears\", \"Success\",\n",
        "               \"Failure\", \"Friendship\", \"Loneliness\", \"Gratitude\", \"Disappointment\",\n",
        "               \"Adventure\", \"Pain\", \"Died\", \"cool\", \"regret\",\"good\", \"bad\", \"normal\", \"okay\"]\n",
        "\n",
        "  labels = [\"pos\", \"neg\", \"pos\", \"neg\", \"pos\", \"neg\", \"pos\", \"neg\", \"pos\",\n",
        "            \"neg\", \"pos\", \"neg\", \"pos\", \"neg\", \"pos\", \"neg\", \"pos\", \"neg\",\n",
        "            \"pos\", \"neg\", \"neg\", \"pos\", \"neg\", \"pos\",\"neg\",\"neu\",\"pos\"]\n",
        "\n",
        "#Similarly we can train with a large dataset for ML algo\n",
        "vectorizer = CountVectorizer()\n",
        "\n",
        "X = vectorizer.fit_transform(documents)\n",
        "y = labels\n",
        "\n",
        "svm_classifier = SVC(kernel='linear')\n",
        "svm_classifier.fit(X, y)\n",
        "main()"
      ]
    }
  ]
}